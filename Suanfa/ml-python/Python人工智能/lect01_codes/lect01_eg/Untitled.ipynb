{
 "cells": [
  {
   "cell_type": "code",
   "execution_count": 45,
   "metadata": {},
   "outputs": [
    {
     "name": "stdout",
     "output_type": "stream",
     "text": [
      "[[ 1  2  3  4  5]\n",
      " [ 6  7  8  9 10]\n",
      " [11 12 13 14 15]]\n",
      "[[ 1  2  3  4  5]\n",
      " [ 6  7  8  9 10]\n",
      " [11 12 13 14 15]]\n"
     ]
    }
   ],
   "source": [
    "import numpy as np\n",
    "originalArray = np.arange(1, 16).reshape(3, 5)\n",
    "originalArray2 = np.arange(16, 31).reshape(3, 5)\n",
    "print(originalArray)\n",
    "print(originalArray)"
   ]
  },
  {
   "cell_type": "code",
   "execution_count": 46,
   "metadata": {},
   "outputs": [
    {
     "name": "stdout",
     "output_type": "stream",
     "text": [
      "[[ 1  2  3  4  5]\n",
      " [ 6  7  8  9 10]\n",
      " [11 12 13 14 15]\n",
      " [16 17 18 19 20]\n",
      " [21 22 23 24 25]\n",
      " [26 27 28 29 30]]\n"
     ]
    }
   ],
   "source": [
    "vstack = np.vstack((originalArray, originalArray2))\n",
    "print(vstack)"
   ]
  },
  {
   "cell_type": "code",
   "execution_count": 47,
   "metadata": {},
   "outputs": [
    {
     "name": "stdout",
     "output_type": "stream",
     "text": [
      "[[ 1  2  3  4  5 16 17 18 19 20]\n",
      " [ 6  7  8  9 10 21 22 23 24 25]\n",
      " [11 12 13 14 15 26 27 28 29 30]]\n"
     ]
    }
   ],
   "source": [
    "hstack = np.hstack((originalArray, originalArray2))\n",
    "print(hstack)"
   ]
  },
  {
   "cell_type": "code",
   "execution_count": 48,
   "metadata": {},
   "outputs": [
    {
     "name": "stdout",
     "output_type": "stream",
     "text": [
      "[[ 1  2  3  4  5]\n",
      " [ 6  7  8  9 10]\n",
      " [10 10 10 10 10]]\n"
     ]
    }
   ],
   "source": [
    "#condition\n",
    "originalArray[originalArray > 10] = 10\n",
    "print(originalArray)"
   ]
  },
  {
   "cell_type": "code",
   "execution_count": 49,
   "metadata": {},
   "outputs": [
    {
     "data": {
      "text/plain": [
       "array([[       nan, 0.62901819, 0.87749119, 0.45160902, 0.69770242],\n",
       "       [0.02420412, 0.41396434, 0.37748838, 0.35823348, 0.52119338],\n",
       "       [0.30751   , 0.43103272, 0.15040779, 0.36237715, 0.66010817]])"
      ]
     },
     "execution_count": 49,
     "metadata": {},
     "output_type": "execute_result"
    }
   ],
   "source": [
    "hasNans = np.random.rand(3,5)\n",
    "hasNans[0][0] = np.nan\n",
    "hasNans"
   ]
  },
  {
   "cell_type": "code",
   "execution_count": 50,
   "metadata": {},
   "outputs": [],
   "source": [
    "\n",
    "c[np.isnan(c)] = 0"
   ]
  },
  {
   "cell_type": "code",
   "execution_count": 51,
   "metadata": {},
   "outputs": [
    {
     "data": {
      "text/plain": [
       "array([[0.        , 0.68324452, 0.80815701, 0.25469201, 0.5581054 ],\n",
       "       [0.11111624, 0.80247487, 0.78031198, 0.44790348, 0.49280635],\n",
       "       [0.79223324, 0.77592143, 0.82180889, 0.86798322, 0.26852045]])"
      ]
     },
     "execution_count": 51,
     "metadata": {},
     "output_type": "execute_result"
    }
   ],
   "source": [
    "c"
   ]
  },
  {
   "cell_type": "code",
   "execution_count": 41,
   "metadata": {},
   "outputs": [
    {
     "name": "stdout",
     "output_type": "stream",
     "text": [
      "element wise product: [[ 7 16 27]\n",
      " [16 35  6]]\n",
      "element wise product: [[ 7 16 27]\n",
      " [16 35  6]]\n"
     ]
    }
   ],
   "source": [
    "#matrix multiply\n",
    "# 2-D array: 2 x 3\n",
    "two_dim_matrix_one = np.array([[1, 2, 3], [4, 5, 6]])\n",
    "another_two_dim_matrix_one = np.array([[7, 8, 9], [4, 7, 1]])\n",
    "\n",
    "# 对应元素相乘 element-wise product\n",
    "element_wise = two_dim_matrix_one * another_two_dim_matrix_one\n",
    "print('element wise product: %s' %(element_wise))\n",
    "\n",
    "# 对应元素相乘 element-wise product\n",
    "element_wise_2 = np.multiply(two_dim_matrix_one, another_two_dim_matrix_one)\n",
    "print('element wise product: %s' % (element_wise_2))"
   ]
  },
  {
   "cell_type": "code",
   "execution_count": 52,
   "metadata": {},
   "outputs": [
    {
     "name": "stdout",
     "output_type": "stream",
     "text": [
      "one_result_res: 32\n",
      "two_multi_res: [[22 28]\n",
      " [49 64]]\n"
     ]
    }
   ],
   "source": [
    "# 1-D array\n",
    "one_dim_vec_one = np.array([1, 2, 3])\n",
    "one_dim_vec_two = np.array([4, 5, 6])\n",
    "one_result_res = np.dot(one_dim_vec_one, one_dim_vec_two)\n",
    "print('one_result_res: %s' %(one_result_res))\n",
    "\n",
    "# 2-D array: 2 x 3\n",
    "two_dim_matrix_one = np.array([[1, 2, 3], [4, 5, 6]])\n",
    "# 2-D array: 3 x 2\n",
    "two_dim_matrix_two = np.array([[1, 2], [3, 4], [5, 6]])\n",
    "\n",
    "two_multi_res = np.dot(two_dim_matrix_one, two_dim_matrix_two)\n",
    "print('two_multi_res: %s' %(two_multi_res))\n"
   ]
  },
  {
   "cell_type": "code",
   "execution_count": null,
   "metadata": {},
   "outputs": [],
   "source": []
  }
 ],
 "metadata": {
  "kernelspec": {
   "display_name": "Python 3",
   "language": "python",
   "name": "python3"
  },
  "language_info": {
   "codemirror_mode": {
    "name": "ipython",
    "version": 3
   },
   "file_extension": ".py",
   "mimetype": "text/x-python",
   "name": "python",
   "nbconvert_exporter": "python",
   "pygments_lexer": "ipython3",
   "version": "3.6.4"
  }
 },
 "nbformat": 4,
 "nbformat_minor": 2
}
