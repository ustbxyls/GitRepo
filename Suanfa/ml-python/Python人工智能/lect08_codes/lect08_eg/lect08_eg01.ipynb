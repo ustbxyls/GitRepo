{
 "cells": [
  {
   "cell_type": "markdown",
   "metadata": {},
   "source": [
    "# Python的日期和时间处理 "
   ]
  },
  {
   "cell_type": "markdown",
   "metadata": {},
   "source": [
    "## datetime模块"
   ]
  },
  {
   "cell_type": "code",
   "execution_count": 1,
   "metadata": {
    "collapsed": true
   },
   "outputs": [],
   "source": [
    "from datetime import datetime"
   ]
  },
  {
   "cell_type": "code",
   "execution_count": 2,
   "metadata": {},
   "outputs": [
    {
     "name": "stdout",
     "output_type": "stream",
     "text": [
      "2018-03-20 22:40:39.028682\n",
      "<class 'datetime.datetime'>\n"
     ]
    }
   ],
   "source": [
    "now = datetime.now()\n",
    "print(now)\n",
    "print(type(now))"
   ]
  },
  {
   "cell_type": "code",
   "execution_count": 3,
   "metadata": {},
   "outputs": [
    {
     "name": "stdout",
     "output_type": "stream",
     "text": [
      "年: 2018, 月: 3, 日: 20\n"
     ]
    }
   ],
   "source": [
    "print('年: {}, 月: {}, 日: {}'.format(now.year, now.month, now.day))"
   ]
  },
  {
   "cell_type": "code",
   "execution_count": 7,
   "metadata": {},
   "outputs": [
    {
     "name": "stdout",
     "output_type": "stream",
     "text": [
      "<class 'datetime.timedelta'>\n",
      "22 days, 2:00:00\n",
      "经历了22天, 7200秒。\n"
     ]
    }
   ],
   "source": [
    "diff = datetime(2018, 3, 25, 17) - datetime(2018, 3, 3, 15)\n",
    "print(type(diff))\n",
    "print(diff)\n",
    "print('经历了{}天, {}秒。'.format(diff.days, diff.seconds))"
   ]
  },
  {
   "cell_type": "markdown",
   "metadata": {},
   "source": [
    "## 字符串和datetime转换\n"
   ]
  },
  {
   "cell_type": "markdown",
   "metadata": {},
   "source": [
    "### datetime -> str"
   ]
  },
  {
   "cell_type": "code",
   "execution_count": 8,
   "metadata": {},
   "outputs": [
    {
     "name": "stdout",
     "output_type": "stream",
     "text": [
      "<class 'str'>\n",
      "2018-03-25 00:00:00\n"
     ]
    }
   ],
   "source": [
    "# str()\n",
    "dt_obj = datetime(2018, 3, 25)\n",
    "str_obj = str(dt_obj)\n",
    "print(type(str_obj))\n",
    "print(str_obj)"
   ]
  },
  {
   "cell_type": "code",
   "execution_count": 9,
   "metadata": {},
   "outputs": [
    {
     "name": "stdout",
     "output_type": "stream",
     "text": [
      "25/03/2018\n"
     ]
    }
   ],
   "source": [
    "# datetime.strftime()\n",
    "str_obj2 = dt_obj.strftime('%d/%m/%Y')\n",
    "print(str_obj2)"
   ]
  },
  {
   "cell_type": "markdown",
   "metadata": {},
   "source": [
    "### str -> datetime"
   ]
  },
  {
   "cell_type": "code",
   "execution_count": 10,
   "metadata": {},
   "outputs": [
    {
     "name": "stdout",
     "output_type": "stream",
     "text": [
      "<class 'datetime.datetime'>\n",
      "2017-02-18 00:00:00\n"
     ]
    }
   ],
   "source": [
    "# strptime\n",
    "dt_str = '2017-02-18'\n",
    "dt_obj2 = datetime.strptime(dt_str, '%Y-%m-%d')\n",
    "print(type(dt_obj2))\n",
    "print(dt_obj2)"
   ]
  },
  {
   "cell_type": "code",
   "execution_count": 11,
   "metadata": {},
   "outputs": [
    {
     "name": "stdout",
     "output_type": "stream",
     "text": [
      "<class 'datetime.datetime'>\n",
      "2017-02-18 00:00:00\n"
     ]
    }
   ],
   "source": [
    "# dateutil.parser.parse\n",
    "from dateutil.parser import parse\n",
    "dt_str2 = '18-02-2017'\n",
    "dt_obj3 = parse(dt_str2)\n",
    "print(type(dt_obj3))\n",
    "print(dt_obj3)"
   ]
  },
  {
   "cell_type": "code",
   "execution_count": 13,
   "metadata": {},
   "outputs": [
    {
     "name": "stdout",
     "output_type": "stream",
     "text": [
      "0    2018/03/03\n",
      "1    2018/03/04\n",
      "2    2018/03/10\n",
      "3    2018/03/11\n",
      "4    2018/03/17\n",
      "5    2018/03/18\n",
      "Name: course_time, dtype: object\n"
     ]
    }
   ],
   "source": [
    "# pd.to_datetime\n",
    "import pandas as pd\n",
    "s_obj = pd.Series(['2018/03/03', '2018/03/04', '2018/03/10', '2018/03/11', '2018/03/17', '2018/03/18'], name='course_time')\n",
    "print(s_obj)"
   ]
  },
  {
   "cell_type": "code",
   "execution_count": 14,
   "metadata": {},
   "outputs": [
    {
     "name": "stdout",
     "output_type": "stream",
     "text": [
      "0   2018-03-03\n",
      "1   2018-03-04\n",
      "2   2018-03-10\n",
      "3   2018-03-11\n",
      "4   2018-03-17\n",
      "5   2018-03-18\n",
      "Name: course_time, dtype: datetime64[ns]\n"
     ]
    }
   ],
   "source": [
    "s_obj2 = pd.to_datetime(s_obj)\n",
    "print(s_obj2)"
   ]
  },
  {
   "cell_type": "code",
   "execution_count": 15,
   "metadata": {},
   "outputs": [
    {
     "name": "stdout",
     "output_type": "stream",
     "text": [
      "0    2018/03/03\n",
      "1    2018/03/04\n",
      "2    2018/03/10\n",
      "3    2018/03/11\n",
      "4    2018/03/17\n",
      "5    2018/03/18\n",
      "6          None\n",
      "Name: course_time, dtype: object\n"
     ]
    }
   ],
   "source": [
    "# 处理缺失值\n",
    "s_obj3 = pd.Series(['2018/03/03', '2018/03/04', '2018/03/10', '2018/03/11', '2018/03/17', '2018/03/18'] + [None], \n",
    "                   name='course_time')\n",
    "print(s_obj3)"
   ]
  },
  {
   "cell_type": "code",
   "execution_count": 16,
   "metadata": {},
   "outputs": [
    {
     "name": "stdout",
     "output_type": "stream",
     "text": [
      "0   2018-03-03\n",
      "1   2018-03-04\n",
      "2   2018-03-10\n",
      "3   2018-03-11\n",
      "4   2018-03-17\n",
      "5   2018-03-18\n",
      "6          NaT\n",
      "Name: course_time, dtype: datetime64[ns]\n"
     ]
    }
   ],
   "source": [
    "s_obj4 = pd.to_datetime(s_obj3)\n",
    "print(s_obj4) # NAT-> Not a Time"
   ]
  },
  {
   "cell_type": "code",
   "execution_count": null,
   "metadata": {
    "collapsed": true
   },
   "outputs": [],
   "source": []
  }
 ],
 "metadata": {
  "anaconda-cloud": {},
  "kernelspec": {
   "display_name": "Python 3",
   "language": "python",
   "name": "python3"
  },
  "language_info": {
   "codemirror_mode": {
    "name": "ipython",
    "version": 3
   },
   "file_extension": ".py",
   "mimetype": "text/x-python",
   "name": "python",
   "nbconvert_exporter": "python",
   "pygments_lexer": "ipython3",
   "version": "3.6.1"
  }
 },
 "nbformat": 4,
 "nbformat_minor": 1
}
