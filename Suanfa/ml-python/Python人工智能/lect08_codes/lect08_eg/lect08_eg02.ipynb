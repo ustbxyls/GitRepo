{
 "cells": [
  {
   "cell_type": "markdown",
   "metadata": {},
   "source": [
    "# Pandas的时间序列处理 "
   ]
  },
  {
   "cell_type": "markdown",
   "metadata": {},
   "source": [
    "## 创建"
   ]
  },
  {
   "cell_type": "code",
   "execution_count": 2,
   "metadata": {},
   "outputs": [
    {
     "name": "stdout",
     "output_type": "stream",
     "text": [
      "2018-03-03   -0.982361\n",
      "2018-03-04    0.238688\n",
      "2018-03-10   -0.941918\n",
      "2018-03-11    1.525703\n",
      "2018-03-17    0.881675\n",
      "2018-03-18    0.395906\n",
      "dtype: float64\n",
      "<class 'pandas.core.indexes.datetimes.DatetimeIndex'>\n"
     ]
    }
   ],
   "source": [
    "from datetime import datetime\n",
    "import pandas as pd\n",
    "import numpy as np\n",
    "\n",
    "# 指定index为datetime的list\n",
    "date_list = [datetime(2018, 3, 3), datetime(2018, 3, 4), \n",
    "             datetime(2018, 3, 10), datetime(2018, 3, 11), \n",
    "             datetime(2018, 3, 17), datetime(2018, 3, 18)]\n",
    "time_s = pd.Series(np.random.randn(6), index=date_list)\n",
    "print(time_s)\n",
    "print(type(time_s.index))"
   ]
  },
  {
   "cell_type": "code",
   "execution_count": 3,
   "metadata": {},
   "outputs": [
    {
     "name": "stdout",
     "output_type": "stream",
     "text": [
      "DatetimeIndex(['2018-03-03', '2018-03-10', '2018-03-17', '2018-03-24',\n",
      "               '2018-03-31'],\n",
      "              dtype='datetime64[ns]', freq='W-SAT')\n",
      "2018-03-03    0.302220\n",
      "2018-03-10   -1.528320\n",
      "2018-03-17   -0.255389\n",
      "2018-03-24    0.926101\n",
      "2018-03-31   -2.277203\n",
      "Freq: W-SAT, dtype: float64\n"
     ]
    }
   ],
   "source": [
    "# pd.date_range()\n",
    "dates = pd.date_range('2018-03-03', # 起始日期\n",
    "                      periods=5,    # 周期\n",
    "                      freq='W-SAT') # 频率\n",
    "print(dates)\n",
    "print(pd.Series(np.random.randn(5), index=dates))"
   ]
  },
  {
   "cell_type": "markdown",
   "metadata": {},
   "source": [
    "## 索引"
   ]
  },
  {
   "cell_type": "code",
   "execution_count": 4,
   "metadata": {},
   "outputs": [
    {
     "name": "stdout",
     "output_type": "stream",
     "text": [
      "-0.9823610469189016\n"
     ]
    }
   ],
   "source": [
    "# 索引位置\n",
    "print(time_s[0])"
   ]
  },
  {
   "cell_type": "code",
   "execution_count": 6,
   "metadata": {},
   "outputs": [
    {
     "name": "stdout",
     "output_type": "stream",
     "text": [
      "-0.9823610469189016\n"
     ]
    }
   ],
   "source": [
    "# 索引值\n",
    "print(time_s[datetime(2018, 3, 3)])"
   ]
  },
  {
   "cell_type": "code",
   "execution_count": 7,
   "metadata": {},
   "outputs": [
    {
     "name": "stdout",
     "output_type": "stream",
     "text": [
      "-0.9823610469189016\n"
     ]
    }
   ],
   "source": [
    "# 可以被解析的日期字符串\n",
    "print(time_s['20180303'])"
   ]
  },
  {
   "cell_type": "code",
   "execution_count": 8,
   "metadata": {},
   "outputs": [
    {
     "name": "stdout",
     "output_type": "stream",
     "text": [
      "2018-03-03   -0.982361\n",
      "2018-03-04    0.238688\n",
      "2018-03-10   -0.941918\n",
      "2018-03-11    1.525703\n",
      "2018-03-17    0.881675\n",
      "2018-03-18    0.395906\n",
      "dtype: float64\n"
     ]
    }
   ],
   "source": [
    "# 按“年份”、“月份”索引\n",
    "print(time_s['2018-3'])"
   ]
  },
  {
   "cell_type": "code",
   "execution_count": 10,
   "metadata": {},
   "outputs": [
    {
     "name": "stdout",
     "output_type": "stream",
     "text": [
      "2018-03-10   -0.941918\n",
      "2018-03-11    1.525703\n",
      "2018-03-17    0.881675\n",
      "2018-03-18    0.395906\n",
      "dtype: float64\n"
     ]
    }
   ],
   "source": [
    "# 切片操作\n",
    "print(time_s['2018-3-6':])"
   ]
  },
  {
   "cell_type": "markdown",
   "metadata": {},
   "source": [
    "## 过滤\n"
   ]
  },
  {
   "cell_type": "code",
   "execution_count": 11,
   "metadata": {},
   "outputs": [
    {
     "name": "stdout",
     "output_type": "stream",
     "text": [
      "2018-03-03   -0.982361\n",
      "2018-03-04    0.238688\n",
      "2018-03-10   -0.941918\n",
      "2018-03-11    1.525703\n",
      "2018-03-17    0.881675\n",
      "2018-03-18    0.395906\n",
      "dtype: float64\n"
     ]
    }
   ],
   "source": [
    "print(time_s)"
   ]
  },
  {
   "cell_type": "code",
   "execution_count": 13,
   "metadata": {},
   "outputs": [
    {
     "data": {
      "text/plain": [
       "2018-03-17    0.881675\n",
       "2018-03-18    0.395906\n",
       "dtype: float64"
      ]
     },
     "execution_count": 13,
     "metadata": {},
     "output_type": "execute_result"
    }
   ],
   "source": [
    "tims_s2 = time_s.truncate(before='2018-3-15')\n",
    "tims_s2"
   ]
  },
  {
   "cell_type": "code",
   "execution_count": 14,
   "metadata": {},
   "outputs": [
    {
     "data": {
      "text/plain": [
       "2018-03-03   -0.982361\n",
       "2018-03-04    0.238688\n",
       "2018-03-10   -0.941918\n",
       "2018-03-11    1.525703\n",
       "dtype: float64"
      ]
     },
     "execution_count": 14,
     "metadata": {},
     "output_type": "execute_result"
    }
   ],
   "source": [
    "time_s.truncate(after='2018-3-15')"
   ]
  },
  {
   "cell_type": "markdown",
   "metadata": {},
   "source": [
    "## 生成日期范围"
   ]
  },
  {
   "cell_type": "code",
   "execution_count": 15,
   "metadata": {},
   "outputs": [
    {
     "name": "stdout",
     "output_type": "stream",
     "text": [
      "DatetimeIndex(['2018-03-03', '2018-03-04', '2018-03-05', '2018-03-06',\n",
      "               '2018-03-07', '2018-03-08', '2018-03-09', '2018-03-10',\n",
      "               '2018-03-11', '2018-03-12', '2018-03-13', '2018-03-14',\n",
      "               '2018-03-15', '2018-03-16', '2018-03-17', '2018-03-18',\n",
      "               '2018-03-19', '2018-03-20', '2018-03-21', '2018-03-22',\n",
      "               '2018-03-23', '2018-03-24', '2018-03-25', '2018-03-26',\n",
      "               '2018-03-27', '2018-03-28', '2018-03-29', '2018-03-30',\n",
      "               '2018-03-31'],\n",
      "              dtype='datetime64[ns]', freq='D')\n"
     ]
    }
   ],
   "source": [
    "# 传入开始、结束日期，默认生成的该时间段的时间点是按天计算的\n",
    "date_index = pd.date_range('2018/03/03', '2018/03/31')\n",
    "print(date_index)"
   ]
  },
  {
   "cell_type": "code",
   "execution_count": 16,
   "metadata": {},
   "outputs": [
    {
     "name": "stdout",
     "output_type": "stream",
     "text": [
      "DatetimeIndex(['2018-03-03', '2018-03-07', '2018-03-11', '2018-03-15',\n",
      "               '2018-03-19', '2018-03-23', '2018-03-27', '2018-03-31',\n",
      "               '2018-04-04', '2018-04-08'],\n",
      "              dtype='datetime64[ns]', freq='4D')\n"
     ]
    }
   ],
   "source": [
    "# 只传入开始或结束日期，还需要传入时间段\n",
    "print(pd.date_range(start='2018/03/03', periods=10, freq='4D'))"
   ]
  },
  {
   "cell_type": "code",
   "execution_count": 17,
   "metadata": {},
   "outputs": [
    {
     "name": "stdout",
     "output_type": "stream",
     "text": [
      "DatetimeIndex(['2018-03-22', '2018-03-23', '2018-03-24', '2018-03-25',\n",
      "               '2018-03-26', '2018-03-27', '2018-03-28', '2018-03-29',\n",
      "               '2018-03-30', '2018-03-31'],\n",
      "              dtype='datetime64[ns]', freq='D')\n"
     ]
    }
   ],
   "source": [
    "print(pd.date_range(end='2018/03/31', periods=10))"
   ]
  },
  {
   "cell_type": "code",
   "execution_count": 18,
   "metadata": {},
   "outputs": [
    {
     "name": "stdout",
     "output_type": "stream",
     "text": [
      "DatetimeIndex(['2018-08-03 12:13:14', '2018-08-04 12:13:14',\n",
      "               '2018-08-05 12:13:14', '2018-08-06 12:13:14',\n",
      "               '2018-08-07 12:13:14', '2018-08-08 12:13:14',\n",
      "               '2018-08-09 12:13:14', '2018-08-10 12:13:14',\n",
      "               '2018-08-11 12:13:14', '2018-08-12 12:13:14'],\n",
      "              dtype='datetime64[ns]', freq='D')\n",
      "DatetimeIndex(['2018-08-03', '2018-08-04', '2018-08-05', '2018-08-06',\n",
      "               '2018-08-07', '2018-08-08', '2018-08-09', '2018-08-10',\n",
      "               '2018-08-11', '2018-08-12'],\n",
      "              dtype='datetime64[ns]', freq='D')\n"
     ]
    }
   ],
   "source": [
    "# 规范化时间戳 \n",
    "print(pd.date_range(start='2018/08/03 12:13:14', periods=10))\n",
    "print(pd.date_range(start='2018/08/03 12:13:14', periods=10, normalize=True))"
   ]
  },
  {
   "cell_type": "markdown",
   "metadata": {},
   "source": [
    "## 频率与偏移量"
   ]
  },
  {
   "cell_type": "code",
   "execution_count": 19,
   "metadata": {},
   "outputs": [
    {
     "name": "stdout",
     "output_type": "stream",
     "text": [
      "DatetimeIndex(['2018-03-03', '2018-03-05', '2018-03-07', '2018-03-09',\n",
      "               '2018-03-11', '2018-03-13', '2018-03-15', '2018-03-17',\n",
      "               '2018-03-19', '2018-03-21', '2018-03-23', '2018-03-25',\n",
      "               '2018-03-27', '2018-03-29', '2018-03-31'],\n",
      "              dtype='datetime64[ns]', freq='2D')\n"
     ]
    }
   ],
   "source": [
    "print(pd.date_range('2018/03/03', '2018/03/31', freq='2D'))"
   ]
  },
  {
   "cell_type": "code",
   "execution_count": 27,
   "metadata": {},
   "outputs": [
    {
     "name": "stdout",
     "output_type": "stream",
     "text": [
      "14 days 12:00:00\n",
      "DatetimeIndex(['2018-03-03 00:00:00', '2018-03-17 12:00:00'], dtype='datetime64[ns]', freq='348H')\n"
     ]
    }
   ],
   "source": [
    "# 偏移量通过加法连接\n",
    "sum_offset = pd.tseries.offsets.Week(2) + pd.tseries.offsets.Hour(12)\n",
    "print(sum_offset)\n",
    "\n",
    "print(pd.date_range('2018/03/03', '2018/03/31', freq=sum_offset))"
   ]
  },
  {
   "cell_type": "markdown",
   "metadata": {},
   "source": [
    "## 移动数据"
   ]
  },
  {
   "cell_type": "code",
   "execution_count": 28,
   "metadata": {},
   "outputs": [
    {
     "name": "stdout",
     "output_type": "stream",
     "text": [
      "2018-03-03   -0.238484\n",
      "2018-03-10    0.072035\n",
      "2018-03-17    0.762324\n",
      "2018-03-24    0.497798\n",
      "2018-03-31    0.579968\n",
      "Freq: W-SAT, dtype: float64\n"
     ]
    }
   ],
   "source": [
    "ts = pd.Series(np.random.randn(5), index=pd.date_range('20180303', periods=5, freq='W-SAT'))\n",
    "print(ts)"
   ]
  },
  {
   "cell_type": "code",
   "execution_count": 29,
   "metadata": {},
   "outputs": [
    {
     "name": "stdout",
     "output_type": "stream",
     "text": [
      "2018-03-03         NaN\n",
      "2018-03-10   -0.238484\n",
      "2018-03-17    0.072035\n",
      "2018-03-24    0.762324\n",
      "2018-03-31    0.497798\n",
      "Freq: W-SAT, dtype: float64\n"
     ]
    }
   ],
   "source": [
    "print(ts.shift(1))\n",
    "#print(ts.shift(-1))"
   ]
  },
  {
   "cell_type": "markdown",
   "metadata": {
    "collapsed": true
   },
   "source": [
    "# 时间数据重采样"
   ]
  },
  {
   "cell_type": "markdown",
   "metadata": {},
   "source": [
    "## resample"
   ]
  },
  {
   "cell_type": "code",
   "execution_count": 30,
   "metadata": {},
   "outputs": [
    {
     "name": "stdout",
     "output_type": "stream",
     "text": [
      "2018-03-03    0\n",
      "2018-03-04    1\n",
      "2018-03-05    2\n",
      "2018-03-06    3\n",
      "2018-03-07    4\n",
      "2018-03-08    5\n",
      "2018-03-09    6\n",
      "2018-03-10    7\n",
      "2018-03-11    8\n",
      "2018-03-12    9\n",
      "Freq: D, dtype: int32\n"
     ]
    }
   ],
   "source": [
    "import pandas as pd\n",
    "import numpy as np\n",
    "\n",
    "date_rng = pd.date_range('20180303', periods=100, freq='D')\n",
    "ser_obj = pd.Series(range(len(date_rng)), index=date_rng)\n",
    "print(ser_obj.head(10))"
   ]
  },
  {
   "cell_type": "code",
   "execution_count": 31,
   "metadata": {},
   "outputs": [
    {
     "name": "stdout",
     "output_type": "stream",
     "text": [
      "按月求和： 2018-03-31     406\n",
      "2018-04-30    1305\n",
      "2018-05-31    2294\n",
      "2018-06-30     945\n",
      "Freq: M, dtype: int32\n",
      "按月求均值： 2018-03-31    14.0\n",
      "2018-04-30    43.5\n",
      "2018-05-31    74.0\n",
      "2018-06-30    94.5\n",
      "Freq: M, dtype: float64\n"
     ]
    }
   ],
   "source": [
    "# 统计每个月的数据总和\n",
    "resample_month_sum = ser_obj.resample('M').sum()\n",
    "# 统计每个月的数据平均\n",
    "resample_month_mean = ser_obj.resample('M').mean()\n",
    "\n",
    "print('按月求和：', resample_month_sum)\n",
    "print('按月求均值：', resample_month_mean)"
   ]
  },
  {
   "cell_type": "markdown",
   "metadata": {},
   "source": [
    "## 降采样"
   ]
  },
  {
   "cell_type": "code",
   "execution_count": 32,
   "metadata": {},
   "outputs": [
    {
     "name": "stdout",
     "output_type": "stream",
     "text": [
      "降采样，sum\n",
      "2018-03-03     10\n",
      "2018-03-08     35\n",
      "2018-03-13     60\n",
      "2018-03-18     85\n",
      "2018-03-23    110\n",
      "2018-03-28    135\n",
      "2018-04-02    160\n",
      "2018-04-07    185\n",
      "2018-04-12    210\n",
      "2018-04-17    235\n",
      "2018-04-22    260\n",
      "2018-04-27    285\n",
      "2018-05-02    310\n",
      "2018-05-07    335\n",
      "2018-05-12    360\n",
      "2018-05-17    385\n",
      "2018-05-22    410\n",
      "2018-05-27    435\n",
      "2018-06-01    460\n",
      "2018-06-06    485\n",
      "Freq: 5D, dtype: int32\n"
     ]
    }
   ],
   "source": [
    "# 将数据聚合到5天的频率\n",
    "five_day_sum_sample = ser_obj.resample('5D').sum()\n",
    "five_day_mean_sample = ser_obj.resample('5D').mean()\n",
    "five_day_ohlc_sample = ser_obj.resample('5D').ohlc()\n",
    "\n",
    "print('降采样，sum')\n",
    "print(five_day_sum_sample)"
   ]
  },
  {
   "cell_type": "code",
   "execution_count": 33,
   "metadata": {},
   "outputs": [
    {
     "name": "stdout",
     "output_type": "stream",
     "text": [
      "降采样，mean\n",
      "2018-03-03     2\n",
      "2018-03-08     7\n",
      "2018-03-13    12\n",
      "2018-03-18    17\n",
      "2018-03-23    22\n",
      "2018-03-28    27\n",
      "2018-04-02    32\n",
      "2018-04-07    37\n",
      "2018-04-12    42\n",
      "2018-04-17    47\n",
      "2018-04-22    52\n",
      "2018-04-27    57\n",
      "2018-05-02    62\n",
      "2018-05-07    67\n",
      "2018-05-12    72\n",
      "2018-05-17    77\n",
      "2018-05-22    82\n",
      "2018-05-27    87\n",
      "2018-06-01    92\n",
      "2018-06-06    97\n",
      "Freq: 5D, dtype: int32\n"
     ]
    }
   ],
   "source": [
    "print('降采样，mean')\n",
    "print(five_day_mean_sample)"
   ]
  },
  {
   "cell_type": "code",
   "execution_count": 34,
   "metadata": {},
   "outputs": [
    {
     "name": "stdout",
     "output_type": "stream",
     "text": [
      "降采样，ohlc\n",
      "            open  high  low  close\n",
      "2018-03-03     0     4    0      4\n",
      "2018-03-08     5     9    5      9\n",
      "2018-03-13    10    14   10     14\n",
      "2018-03-18    15    19   15     19\n",
      "2018-03-23    20    24   20     24\n",
      "2018-03-28    25    29   25     29\n",
      "2018-04-02    30    34   30     34\n",
      "2018-04-07    35    39   35     39\n",
      "2018-04-12    40    44   40     44\n",
      "2018-04-17    45    49   45     49\n",
      "2018-04-22    50    54   50     54\n",
      "2018-04-27    55    59   55     59\n",
      "2018-05-02    60    64   60     64\n",
      "2018-05-07    65    69   65     69\n",
      "2018-05-12    70    74   70     74\n",
      "2018-05-17    75    79   75     79\n",
      "2018-05-22    80    84   80     84\n",
      "2018-05-27    85    89   85     89\n",
      "2018-06-01    90    94   90     94\n",
      "2018-06-06    95    99   95     99\n"
     ]
    }
   ],
   "source": [
    "print('降采样，ohlc')\n",
    "print(five_day_ohlc_sample)"
   ]
  },
  {
   "cell_type": "code",
   "execution_count": 35,
   "metadata": {},
   "outputs": [
    {
     "name": "stdout",
     "output_type": "stream",
     "text": [
      "3     406\n",
      "4    1305\n",
      "5    2294\n",
      "6     945\n",
      "dtype: int32\n"
     ]
    }
   ],
   "source": [
    "# 使用groupby降采样\n",
    "print(ser_obj.groupby(lambda x: x.month).sum())"
   ]
  },
  {
   "cell_type": "code",
   "execution_count": 36,
   "metadata": {},
   "outputs": [
    {
     "name": "stdout",
     "output_type": "stream",
     "text": [
      "0    665\n",
      "1    679\n",
      "2    693\n",
      "3    707\n",
      "4    721\n",
      "5    735\n",
      "6    750\n",
      "dtype: int32\n"
     ]
    }
   ],
   "source": [
    "print(ser_obj.groupby(lambda x: x.weekday).sum())"
   ]
  },
  {
   "cell_type": "markdown",
   "metadata": {},
   "source": [
    "## 升采样"
   ]
  },
  {
   "cell_type": "code",
   "execution_count": 38,
   "metadata": {},
   "outputs": [
    {
     "name": "stdout",
     "output_type": "stream",
     "text": [
      "                  S1        S2        S3\n",
      "2018-01-01 -0.100209  0.884367  1.640325\n",
      "2018-01-08 -0.101081  0.067579 -0.574007\n",
      "2018-01-15 -2.283601  1.573761 -0.788964\n",
      "2018-01-22  2.896880 -0.752669 -0.500349\n",
      "2018-01-29  0.414028 -0.352802 -0.474647\n"
     ]
    }
   ],
   "source": [
    "df = pd.DataFrame(np.random.randn(5, 3),\n",
    "                 index=pd.date_range('20180101', periods=5, freq='W-MON'),\n",
    "                 columns=['S1', 'S2', 'S3'])\n",
    "print(df)"
   ]
  },
  {
   "cell_type": "code",
   "execution_count": 39,
   "metadata": {},
   "outputs": [
    {
     "name": "stdout",
     "output_type": "stream",
     "text": [
      "                  S1        S2        S3\n",
      "2018-01-01 -0.100209  0.884367  1.640325\n",
      "2018-01-02       NaN       NaN       NaN\n",
      "2018-01-03       NaN       NaN       NaN\n",
      "2018-01-04       NaN       NaN       NaN\n",
      "2018-01-05       NaN       NaN       NaN\n",
      "2018-01-06       NaN       NaN       NaN\n",
      "2018-01-07       NaN       NaN       NaN\n",
      "2018-01-08 -0.101081  0.067579 -0.574007\n",
      "2018-01-09       NaN       NaN       NaN\n",
      "2018-01-10       NaN       NaN       NaN\n",
      "2018-01-11       NaN       NaN       NaN\n",
      "2018-01-12       NaN       NaN       NaN\n",
      "2018-01-13       NaN       NaN       NaN\n",
      "2018-01-14       NaN       NaN       NaN\n",
      "2018-01-15 -2.283601  1.573761 -0.788964\n",
      "2018-01-16       NaN       NaN       NaN\n",
      "2018-01-17       NaN       NaN       NaN\n",
      "2018-01-18       NaN       NaN       NaN\n",
      "2018-01-19       NaN       NaN       NaN\n",
      "2018-01-20       NaN       NaN       NaN\n",
      "2018-01-21       NaN       NaN       NaN\n",
      "2018-01-22  2.896880 -0.752669 -0.500349\n",
      "2018-01-23       NaN       NaN       NaN\n",
      "2018-01-24       NaN       NaN       NaN\n",
      "2018-01-25       NaN       NaN       NaN\n",
      "2018-01-26       NaN       NaN       NaN\n",
      "2018-01-27       NaN       NaN       NaN\n",
      "2018-01-28       NaN       NaN       NaN\n",
      "2018-01-29  0.414028 -0.352802 -0.474647\n"
     ]
    }
   ],
   "source": [
    "# 直接重采样会产生空值\n",
    "print(df.resample('D').asfreq())"
   ]
  },
  {
   "cell_type": "code",
   "execution_count": 40,
   "metadata": {},
   "outputs": [
    {
     "name": "stdout",
     "output_type": "stream",
     "text": [
      "                  S1        S2        S3\n",
      "2018-01-01 -0.100209  0.884367  1.640325\n",
      "2018-01-02 -0.100209  0.884367  1.640325\n",
      "2018-01-03 -0.100209  0.884367  1.640325\n",
      "2018-01-04       NaN       NaN       NaN\n",
      "2018-01-05       NaN       NaN       NaN\n",
      "2018-01-06       NaN       NaN       NaN\n",
      "2018-01-07       NaN       NaN       NaN\n",
      "2018-01-08 -0.101081  0.067579 -0.574007\n",
      "2018-01-09 -0.101081  0.067579 -0.574007\n",
      "2018-01-10 -0.101081  0.067579 -0.574007\n",
      "2018-01-11       NaN       NaN       NaN\n",
      "2018-01-12       NaN       NaN       NaN\n",
      "2018-01-13       NaN       NaN       NaN\n",
      "2018-01-14       NaN       NaN       NaN\n",
      "2018-01-15 -2.283601  1.573761 -0.788964\n",
      "2018-01-16 -2.283601  1.573761 -0.788964\n",
      "2018-01-17 -2.283601  1.573761 -0.788964\n",
      "2018-01-18       NaN       NaN       NaN\n",
      "2018-01-19       NaN       NaN       NaN\n",
      "2018-01-20       NaN       NaN       NaN\n",
      "2018-01-21       NaN       NaN       NaN\n",
      "2018-01-22  2.896880 -0.752669 -0.500349\n",
      "2018-01-23  2.896880 -0.752669 -0.500349\n",
      "2018-01-24  2.896880 -0.752669 -0.500349\n",
      "2018-01-25       NaN       NaN       NaN\n",
      "2018-01-26       NaN       NaN       NaN\n",
      "2018-01-27       NaN       NaN       NaN\n",
      "2018-01-28       NaN       NaN       NaN\n",
      "2018-01-29  0.414028 -0.352802 -0.474647\n"
     ]
    }
   ],
   "source": [
    "#ffill\n",
    "print(df.resample('D').ffill(2))"
   ]
  },
  {
   "cell_type": "code",
   "execution_count": 41,
   "metadata": {},
   "outputs": [
    {
     "name": "stdout",
     "output_type": "stream",
     "text": [
      "                  S1        S2        S3\n",
      "2018-01-01 -0.100209  0.884367  1.640325\n",
      "2018-01-02 -0.101081  0.067579 -0.574007\n",
      "2018-01-03 -0.101081  0.067579 -0.574007\n",
      "2018-01-04 -0.101081  0.067579 -0.574007\n",
      "2018-01-05 -0.101081  0.067579 -0.574007\n",
      "2018-01-06 -0.101081  0.067579 -0.574007\n",
      "2018-01-07 -0.101081  0.067579 -0.574007\n",
      "2018-01-08 -0.101081  0.067579 -0.574007\n",
      "2018-01-09 -2.283601  1.573761 -0.788964\n",
      "2018-01-10 -2.283601  1.573761 -0.788964\n",
      "2018-01-11 -2.283601  1.573761 -0.788964\n",
      "2018-01-12 -2.283601  1.573761 -0.788964\n",
      "2018-01-13 -2.283601  1.573761 -0.788964\n",
      "2018-01-14 -2.283601  1.573761 -0.788964\n",
      "2018-01-15 -2.283601  1.573761 -0.788964\n",
      "2018-01-16  2.896880 -0.752669 -0.500349\n",
      "2018-01-17  2.896880 -0.752669 -0.500349\n",
      "2018-01-18  2.896880 -0.752669 -0.500349\n",
      "2018-01-19  2.896880 -0.752669 -0.500349\n",
      "2018-01-20  2.896880 -0.752669 -0.500349\n",
      "2018-01-21  2.896880 -0.752669 -0.500349\n",
      "2018-01-22  2.896880 -0.752669 -0.500349\n",
      "2018-01-23  0.414028 -0.352802 -0.474647\n",
      "2018-01-24  0.414028 -0.352802 -0.474647\n",
      "2018-01-25  0.414028 -0.352802 -0.474647\n",
      "2018-01-26  0.414028 -0.352802 -0.474647\n",
      "2018-01-27  0.414028 -0.352802 -0.474647\n",
      "2018-01-28  0.414028 -0.352802 -0.474647\n",
      "2018-01-29  0.414028 -0.352802 -0.474647\n"
     ]
    }
   ],
   "source": [
    "print(df.resample('D').bfill())"
   ]
  },
  {
   "cell_type": "code",
   "execution_count": 42,
   "metadata": {},
   "outputs": [
    {
     "name": "stdout",
     "output_type": "stream",
     "text": [
      "                  S1        S2        S3\n",
      "2018-01-01 -0.100209  0.884367  1.640325\n",
      "2018-01-02 -0.100209  0.884367  1.640325\n",
      "2018-01-03 -0.100209  0.884367  1.640325\n",
      "2018-01-04 -0.100209  0.884367  1.640325\n",
      "2018-01-05 -0.100209  0.884367  1.640325\n",
      "2018-01-06 -0.100209  0.884367  1.640325\n",
      "2018-01-07 -0.100209  0.884367  1.640325\n",
      "2018-01-08 -0.101081  0.067579 -0.574007\n",
      "2018-01-09 -0.101081  0.067579 -0.574007\n",
      "2018-01-10 -0.101081  0.067579 -0.574007\n",
      "2018-01-11 -0.101081  0.067579 -0.574007\n",
      "2018-01-12 -0.101081  0.067579 -0.574007\n",
      "2018-01-13 -0.101081  0.067579 -0.574007\n",
      "2018-01-14 -0.101081  0.067579 -0.574007\n",
      "2018-01-15 -2.283601  1.573761 -0.788964\n",
      "2018-01-16 -2.283601  1.573761 -0.788964\n",
      "2018-01-17 -2.283601  1.573761 -0.788964\n",
      "2018-01-18 -2.283601  1.573761 -0.788964\n",
      "2018-01-19 -2.283601  1.573761 -0.788964\n",
      "2018-01-20 -2.283601  1.573761 -0.788964\n",
      "2018-01-21 -2.283601  1.573761 -0.788964\n",
      "2018-01-22  2.896880 -0.752669 -0.500349\n",
      "2018-01-23  2.896880 -0.752669 -0.500349\n",
      "2018-01-24  2.896880 -0.752669 -0.500349\n",
      "2018-01-25  2.896880 -0.752669 -0.500349\n",
      "2018-01-26  2.896880 -0.752669 -0.500349\n",
      "2018-01-27  2.896880 -0.752669 -0.500349\n",
      "2018-01-28  2.896880 -0.752669 -0.500349\n",
      "2018-01-29  0.414028 -0.352802 -0.474647\n"
     ]
    }
   ],
   "source": [
    "print(df.resample('D').fillna('ffill'))"
   ]
  },
  {
   "cell_type": "code",
   "execution_count": 43,
   "metadata": {},
   "outputs": [
    {
     "name": "stdout",
     "output_type": "stream",
     "text": [
      "                  S1        S2        S3\n",
      "2018-01-01 -0.100209  0.884367  1.640325\n",
      "2018-01-02 -0.100334  0.767683  1.323992\n",
      "2018-01-03 -0.100458  0.650999  1.007659\n",
      "2018-01-04 -0.100583  0.534315  0.691326\n",
      "2018-01-05 -0.100707  0.417631  0.374992\n",
      "2018-01-06 -0.100832  0.300947  0.058659\n",
      "2018-01-07 -0.100956  0.184263 -0.257674\n",
      "2018-01-08 -0.101081  0.067579 -0.574007\n",
      "2018-01-09 -0.412870  0.282748 -0.604715\n",
      "2018-01-10 -0.724658  0.497916 -0.635423\n",
      "2018-01-11 -1.036447  0.713085 -0.666131\n",
      "2018-01-12 -1.348235  0.928254 -0.696840\n",
      "2018-01-13 -1.660024  1.143423 -0.727548\n",
      "2018-01-14 -1.971813  1.358592 -0.758256\n",
      "2018-01-15 -2.283601  1.573761 -0.788964\n",
      "2018-01-16 -1.543532  1.241413 -0.747733\n",
      "2018-01-17 -0.803464  0.909066 -0.706503\n",
      "2018-01-18 -0.063395  0.576719 -0.665272\n",
      "2018-01-19  0.676674  0.244372 -0.624041\n",
      "2018-01-20  1.416743 -0.087975 -0.582811\n",
      "2018-01-21  2.156812 -0.420322 -0.541580\n",
      "2018-01-22  2.896880 -0.752669 -0.500349\n",
      "2018-01-23  2.542187 -0.695545 -0.496678\n",
      "2018-01-24  2.187494 -0.638422 -0.493006\n",
      "2018-01-25  1.832801 -0.581298 -0.489334\n",
      "2018-01-26  1.478107 -0.524174 -0.485662\n",
      "2018-01-27  1.123414 -0.467050 -0.481991\n",
      "2018-01-28  0.768721 -0.409926 -0.478319\n",
      "2018-01-29  0.414028 -0.352802 -0.474647\n"
     ]
    }
   ],
   "source": [
    "print(df.resample('D').interpolate('linear'))"
   ]
  },
  {
   "cell_type": "markdown",
   "metadata": {},
   "source": [
    "# 时间序列数据统计—滑动窗口"
   ]
  },
  {
   "cell_type": "markdown",
   "metadata": {},
   "source": [
    "## 窗口函数"
   ]
  },
  {
   "cell_type": "code",
   "execution_count": 44,
   "metadata": {},
   "outputs": [
    {
     "name": "stdout",
     "output_type": "stream",
     "text": [
      "2018-01-01    0.955384\n",
      "2018-01-02    0.142700\n",
      "2018-01-03    0.045033\n",
      "2018-01-04    0.901586\n",
      "2018-01-05    0.380439\n",
      "Freq: D, dtype: float64\n"
     ]
    }
   ],
   "source": [
    "import pandas as pd\n",
    "import numpy as np\n",
    "\n",
    "ser_obj = pd.Series(np.random.randn(1000), \n",
    "                    index=pd.date_range('20180101', periods=1000))\n",
    "ser_obj = ser_obj.cumsum()\n",
    "print(ser_obj.head())"
   ]
  },
  {
   "cell_type": "code",
   "execution_count": 45,
   "metadata": {},
   "outputs": [
    {
     "name": "stdout",
     "output_type": "stream",
     "text": [
      "2018-01-01    0.955384\n",
      "2018-01-02    0.142700\n",
      "2018-01-03    0.045033\n",
      "2018-01-04    0.901586\n",
      "2018-01-05    0.380439\n",
      "Freq: D, dtype: float64\n"
     ]
    }
   ],
   "source": [
    "print(ser_obj.head())"
   ]
  },
  {
   "cell_type": "code",
   "execution_count": 46,
   "metadata": {},
   "outputs": [
    {
     "name": "stdout",
     "output_type": "stream",
     "text": [
      "Rolling [window=5,center=False,axis=0]\n"
     ]
    }
   ],
   "source": [
    "r_obj = ser_obj.rolling(window=5)\n",
    "print(r_obj)"
   ]
  },
  {
   "cell_type": "code",
   "execution_count": 47,
   "metadata": {},
   "outputs": [
    {
     "name": "stdout",
     "output_type": "stream",
     "text": [
      "2018-01-01         NaN\n",
      "2018-01-02         NaN\n",
      "2018-01-03         NaN\n",
      "2018-01-04         NaN\n",
      "2018-01-05    0.485029\n",
      "2018-01-06    0.312078\n",
      "2018-01-07    0.337976\n",
      "2018-01-08    0.814811\n",
      "2018-01-09    1.164014\n",
      "2018-01-10    1.902247\n",
      "2018-01-11    2.648463\n",
      "2018-01-12    3.417589\n",
      "2018-01-13    3.845249\n",
      "2018-01-14    4.069922\n",
      "2018-01-15    4.016622\n",
      "2018-01-16    4.233380\n",
      "2018-01-17    4.758408\n",
      "2018-01-18    5.206613\n",
      "2018-01-19    6.107366\n",
      "2018-01-20    6.639739\n",
      "2018-01-21    7.147602\n",
      "2018-01-22    7.199637\n",
      "2018-01-23    7.448293\n",
      "2018-01-24    7.490668\n",
      "2018-01-25    8.102470\n",
      "2018-01-26    8.442799\n",
      "2018-01-27    8.691097\n",
      "2018-01-28    8.677679\n",
      "2018-01-29    8.603318\n",
      "2018-01-30    8.420232\n",
      "                ...   \n",
      "2020-08-28    6.160418\n",
      "2020-08-29    6.359168\n",
      "2020-08-30    6.464801\n",
      "2020-08-31    6.424014\n",
      "2020-09-01    6.413622\n",
      "2020-09-02    6.695089\n",
      "2020-09-03    6.467352\n",
      "2020-09-04    6.098617\n",
      "2020-09-05    5.720092\n",
      "2020-09-06    5.293174\n",
      "2020-09-07    4.214356\n",
      "2020-09-08    3.350984\n",
      "2020-09-09    2.629325\n",
      "2020-09-10    1.649033\n",
      "2020-09-11    0.600326\n",
      "2020-09-12    0.073690\n",
      "2020-09-13   -0.529713\n",
      "2020-09-14   -1.286791\n",
      "2020-09-15   -1.707588\n",
      "2020-09-16   -1.935667\n",
      "2020-09-17   -2.136664\n",
      "2020-09-18   -2.085392\n",
      "2020-09-19   -1.698405\n",
      "2020-09-20   -1.466027\n",
      "2020-09-21   -1.416056\n",
      "2020-09-22   -1.340310\n",
      "2020-09-23   -1.413593\n",
      "2020-09-24   -1.515822\n",
      "2020-09-25   -1.489536\n",
      "2020-09-26   -1.227187\n",
      "Freq: D, Length: 1000, dtype: float64\n"
     ]
    }
   ],
   "source": [
    "print(r_obj.mean())\n",
    "\n",
    "# 验证：\n",
    "# 前5个数据的均值\n",
    "# print(ser_obj[0:5].mean())\n",
    "\n",
    "# 1-6个数据的均值\n",
    "# print(ser_obj[1:6].mean())"
   ]
  },
  {
   "cell_type": "code",
   "execution_count": 48,
   "metadata": {},
   "outputs": [
    {
     "data": {
      "text/plain": [
       "<matplotlib.axes._subplots.AxesSubplot at 0x21293a14b70>"
      ]
     },
     "execution_count": 48,
     "metadata": {},
     "output_type": "execute_result"
    },
    {
     "data": {
      "image/png": "[encoded data removed]",
      "text/plain": [
       "<matplotlib.figure.Figure at 0x2129397c860>"
      ]
     },
     "metadata": {},
     "output_type": "display_data"
    }
   ],
   "source": [
    "# 画图查看\n",
    "import matplotlib.pyplot as plt\n",
    "%matplotlib inline\n",
    "\n",
    "plt.figure(figsize=(15, 5))\n",
    "\n",
    "ser_obj.plot(style='r--')\n",
    "ser_obj.rolling(window=10, center=True).mean().plot(style='b')"
   ]
  },
  {
   "cell_type": "code",
   "execution_count": 49,
   "metadata": {},
   "outputs": [
    {
     "name": "stdout",
     "output_type": "stream",
     "text": [
      "2018-01-01         NaN\n",
      "2018-01-02         NaN\n",
      "2018-01-03    0.485029\n",
      "2018-01-04    0.312078\n",
      "2018-01-05    0.337976\n",
      "2018-01-06    0.814811\n",
      "2018-01-07    1.164014\n",
      "2018-01-08    1.902247\n",
      "2018-01-09    2.648463\n",
      "2018-01-10    3.417589\n",
      "2018-01-11    3.845249\n",
      "2018-01-12    4.069922\n",
      "2018-01-13    4.016622\n",
      "2018-01-14    4.233380\n",
      "2018-01-15    4.758408\n",
      "2018-01-16    5.206613\n",
      "2018-01-17    6.107366\n",
      "2018-01-18    6.639739\n",
      "2018-01-19    7.147602\n",
      "2018-01-20    7.199637\n",
      "2018-01-21    7.448293\n",
      "2018-01-22    7.490668\n",
      "2018-01-23    8.102470\n",
      "2018-01-24    8.442799\n",
      "2018-01-25    8.691097\n",
      "2018-01-26    8.677679\n",
      "2018-01-27    8.603318\n",
      "2018-01-28    8.420232\n",
      "2018-01-29    8.426937\n",
      "2018-01-30    8.338514\n",
      "                ...   \n",
      "2020-08-28    6.464801\n",
      "2020-08-29    6.424014\n",
      "2020-08-30    6.413622\n",
      "2020-08-31    6.695089\n",
      "2020-09-01    6.467352\n",
      "2020-09-02    6.098617\n",
      "2020-09-03    5.720092\n",
      "2020-09-04    5.293174\n",
      "2020-09-05    4.214356\n",
      "2020-09-06    3.350984\n",
      "2020-09-07    2.629325\n",
      "2020-09-08    1.649033\n",
      "2020-09-09    0.600326\n",
      "2020-09-10    0.073690\n",
      "2020-09-11   -0.529713\n",
      "2020-09-12   -1.286791\n",
      "2020-09-13   -1.707588\n",
      "2020-09-14   -1.935667\n",
      "2020-09-15   -2.136664\n",
      "2020-09-16   -2.085392\n",
      "2020-09-17   -1.698405\n",
      "2020-09-18   -1.466027\n",
      "2020-09-19   -1.416056\n",
      "2020-09-20   -1.340310\n",
      "2020-09-21   -1.413593\n",
      "2020-09-22   -1.515822\n",
      "2020-09-23   -1.489536\n",
      "2020-09-24   -1.227187\n",
      "2020-09-25         NaN\n",
      "2020-09-26         NaN\n",
      "Freq: D, Length: 1000, dtype: float64\n"
     ]
    }
   ],
   "source": [
    "print(ser_obj.rolling(window=5, center=True).mean())"
   ]
  },
  {
   "cell_type": "code",
   "execution_count": null,
   "metadata": {
    "collapsed": true
   },
   "outputs": [],
   "source": []
  }
 ],
 "metadata": {
  "anaconda-cloud": {},
  "kernelspec": {
   "display_name": "Python 3",
   "language": "python",
   "name": "python3"
  },
  "language_info": {
   "codemirror_mode": {
    "name": "ipython",
    "version": 3
   },
   "file_extension": ".py",
   "mimetype": "text/x-python",
   "name": "python",
   "nbconvert_exporter": "python",
   "pygments_lexer": "ipython3",
   "version": "3.6.4"
  }
 },
 "nbformat": 4,
 "nbformat_minor": 1
}
