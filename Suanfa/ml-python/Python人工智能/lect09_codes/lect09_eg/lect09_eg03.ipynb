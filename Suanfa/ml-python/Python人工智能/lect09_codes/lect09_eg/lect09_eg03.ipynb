{
 "cells": [
  {
   "cell_type": "markdown",
   "metadata": {},
   "source": [
    "# 文本特征及分类"
   ]
  },
  {
   "cell_type": "markdown",
   "metadata": {},
   "source": [
    "## 1. 情感分析"
   ]
  },
  {
   "cell_type": "code",
   "execution_count": 1,
   "metadata": {},
   "outputs": [
    {
     "name": "stdout",
     "output_type": "stream",
     "text": [
      "[[{'I': True, 'like': True, 'movie': True, 'much': True, '!': True}, 1], [{'That': True, 'good': True, 'movie': True, '.': True}, 1], [{'This': True, 'great': True, 'one': True, '.': True}, 1], [{'That': True, 'really': True, 'bad': True, 'movie': True, '.': True}, 0], [{'This': True, 'terrible': True, 'movie': True, '.': True}, 0]]\n"
     ]
    }
   ],
   "source": [
    "# 简单的例子\n",
    "\n",
    "import nltk\n",
    "from nltk.stem import WordNetLemmatizer\n",
    "from nltk.corpus import stopwords\n",
    "from nltk.classify import NaiveBayesClassifier\n",
    "\n",
    "text1 = 'I like the movie so much!'\n",
    "text2 = 'That is a good movie.'\n",
    "text3 = 'This is a great one.'\n",
    "text4 = 'That is a really bad movie.'\n",
    "text5 = 'This is a terrible movie.'\n",
    "\n",
    "def proc_text(text):\n",
    "    \"\"\"\n",
    "        预处处理文本\n",
    "    \"\"\"\n",
    "    # 分词\n",
    "    raw_words = nltk.word_tokenize(text)\n",
    "    \n",
    "    # 词形归一化\n",
    "    wordnet_lematizer = WordNetLemmatizer()    \n",
    "    words = [wordnet_lematizer.lemmatize(raw_word) for raw_word in raw_words]\n",
    "    \n",
    "    # 去除停用词\n",
    "    filtered_words = [word for word in words if word not in stopwords.words('english')]\n",
    "    \n",
    "    # True 表示该词在文本中，为了使用nltk中的分类器\n",
    "    return {word: True for word in filtered_words}\n",
    "\n",
    "# 构造训练样本\n",
    "train_data = [[proc_text(text1), 1],\n",
    "              [proc_text(text2), 1],\n",
    "              [proc_text(text3), 1],\n",
    "              [proc_text(text4), 0],\n",
    "              [proc_text(text5), 0]]\n",
    "\n",
    "print(train_data)"
   ]
  },
  {
   "cell_type": "code",
   "execution_count": 3,
   "metadata": {},
   "outputs": [
    {
     "name": "stdout",
     "output_type": "stream",
     "text": [
      "0\n"
     ]
    }
   ],
   "source": [
    "# 训练模型\n",
    "nb_model = NaiveBayesClassifier.train(train_data)\n",
    "\n",
    "# 测试模型\n",
    "text6 = 'That is a not bad one.'\n",
    "print(nb_model.classify(proc_text(text6)))"
   ]
  },
  {
   "cell_type": "markdown",
   "metadata": {},
   "source": [
    "## 2. 文本相似度"
   ]
  },
  {
   "cell_type": "code",
   "execution_count": 4,
   "metadata": {},
   "outputs": [
    {
     "name": "stdout",
     "output_type": "stream",
     "text": [
      "2\n"
     ]
    }
   ],
   "source": [
    "import nltk\n",
    "from nltk import FreqDist\n",
    "\n",
    "text1 = 'I like the movie so much '\n",
    "text2 = 'That is a good movie '\n",
    "text3 = 'This is a great one '\n",
    "text4 = 'That is a really bad movie '\n",
    "text5 = 'This is a terrible movie'\n",
    "\n",
    "text = text1 + text2 + text3 + text4 + text5\n",
    "words = nltk.word_tokenize(text)\n",
    "freq_dist = FreqDist(words)\n",
    "print(freq_dist['That'])"
   ]
  },
  {
   "cell_type": "code",
   "execution_count": 5,
   "metadata": {},
   "outputs": [
    {
     "data": {
      "text/plain": [
       "FreqDist({'I': 1,\n",
       "          'That': 2,\n",
       "          'This': 2,\n",
       "          'a': 4,\n",
       "          'bad': 1,\n",
       "          'good': 1,\n",
       "          'great': 1,\n",
       "          'is': 4,\n",
       "          'like': 1,\n",
       "          'movie': 4,\n",
       "          'much': 1,\n",
       "          'one': 1,\n",
       "          'really': 1,\n",
       "          'so': 1,\n",
       "          'terrible': 1,\n",
       "          'the': 1})"
      ]
     },
     "execution_count": 5,
     "metadata": {},
     "output_type": "execute_result"
    }
   ],
   "source": [
    "freq_dist"
   ]
  },
  {
   "cell_type": "code",
   "execution_count": 6,
   "metadata": {},
   "outputs": [
    {
     "name": "stdout",
     "output_type": "stream",
     "text": [
      "[('movie', 4), ('is', 4), ('a', 4), ('That', 2), ('This', 2)]\n"
     ]
    }
   ],
   "source": [
    "# 取出常用的n=5个单词\n",
    "n = 5\n",
    "\n",
    "# 构造“常用单词列表”\n",
    "most_common_words = freq_dist.most_common(n)\n",
    "print(most_common_words)"
   ]
  },
  {
   "cell_type": "code",
   "execution_count": 7,
   "metadata": {},
   "outputs": [
    {
     "name": "stdout",
     "output_type": "stream",
     "text": [
      "{'movie': 0, 'is': 1, 'a': 2, 'That': 3, 'This': 4}\n"
     ]
    }
   ],
   "source": [
    "def lookup_pos(most_common_words):\n",
    "    \"\"\"\n",
    "        查找常用单词的位置\n",
    "    \"\"\"\n",
    "    result = {}\n",
    "    pos = 0\n",
    "    for word in most_common_words:\n",
    "        result[word[0]] = pos\n",
    "        pos += 1\n",
    "    return result\n",
    "\n",
    "# 记录位置\n",
    "std_pos_dict = lookup_pos(most_common_words)\n",
    "print(std_pos_dict)"
   ]
  },
  {
   "cell_type": "code",
   "execution_count": 8,
   "metadata": {},
   "outputs": [
    {
     "name": "stdout",
     "output_type": "stream",
     "text": [
      "[1, 2, 1, 1, 1]\n"
     ]
    }
   ],
   "source": [
    "# 新文本\n",
    "new_text = 'That one is a good movie. This is so good!'\n",
    "\n",
    "# 初始化向量\n",
    "freq_vec = [0] * n\n",
    "\n",
    "# 分词\n",
    "new_words = nltk.word_tokenize(new_text)\n",
    "\n",
    "# 在“常用单词列表”上计算词频\n",
    "for new_word in new_words:\n",
    "    if new_word in list(std_pos_dict.keys()):\n",
    "        freq_vec[std_pos_dict[new_word]] += 1\n",
    "\n",
    "print(freq_vec)"
   ]
  },
  {
   "cell_type": "code",
   "execution_count": null,
   "metadata": {
    "collapsed": true
   },
   "outputs": [],
   "source": [
    "new_text = 'That one is a good movie.'"
   ]
  },
  {
   "cell_type": "markdown",
   "metadata": {},
   "source": [
    "## 3. 文本分类及TF-IDF"
   ]
  },
  {
   "cell_type": "markdown",
   "metadata": {},
   "source": [
    "### 3.1 NLTK中的TF-IDF"
   ]
  },
  {
   "cell_type": "code",
   "execution_count": 9,
   "metadata": {},
   "outputs": [
    {
     "name": "stdout",
     "output_type": "stream",
     "text": [
      "That的TF-IDF值为：0.02181644599700369\n"
     ]
    }
   ],
   "source": [
    "from nltk.text import TextCollection\n",
    "\n",
    "text1 = 'I like the movie so much '\n",
    "text2 = 'That is a good movie '\n",
    "text3 = 'This is a great one '\n",
    "text4 = 'That is a really bad movie '\n",
    "text5 = 'This is a terrible movie'\n",
    "\n",
    "# 构建TextCollection对象\n",
    "tc = TextCollection([text1, text2, text3, \n",
    "                        text4, text5])\n",
    "new_text = 'That one is a good movie. This is so good!'\n",
    "word = 'That'\n",
    "tf_idf_val = tc.tf_idf(word, new_text)\n",
    "print('{}的TF-IDF值为：{}'.format(word, tf_idf_val))"
   ]
  },
  {
   "cell_type": "markdown",
   "metadata": {},
   "source": [
    "### 3.2 sklearn中的TF-IDF"
   ]
  },
  {
   "cell_type": "code",
   "execution_count": 10,
   "metadata": {},
   "outputs": [
    {
     "name": "stderr",
     "output_type": "stream",
     "text": [
      "C:\\ProgramData\\Anaconda3\\lib\\site-packages\\sklearn\\feature_extraction\\text.py:1089: FutureWarning: Conversion of the second argument of issubdtype from `float` to `np.floating` is deprecated. In future, it will be treated as `np.float64 == np.dtype(float).type`.\n",
      "  if hasattr(X, 'dtype') and np.issubdtype(X.dtype, np.float):\n"
     ]
    }
   ],
   "source": [
    "from sklearn.feature_extraction.text import TfidfVectorizer\n",
    "\n",
    "vectorizer = TfidfVectorizer()\n",
    "feat = vectorizer.fit_transform([text1, text2, text3, text4, text5])"
   ]
  },
  {
   "cell_type": "code",
   "execution_count": 12,
   "metadata": {},
   "outputs": [
    {
     "data": {
      "text/plain": [
       "array([[0.        , 0.        , 0.        , 0.        , 0.48127008,\n",
       "        0.27113917, 0.48127008, 0.        , 0.        , 0.48127008,\n",
       "        0.        , 0.        , 0.48127008, 0.        ],\n",
       "       [0.        , 0.6614376 , 0.        , 0.3726424 , 0.        ,\n",
       "        0.3726424 , 0.        , 0.        , 0.        , 0.        ,\n",
       "        0.        , 0.53364369, 0.        , 0.        ],\n",
       "       [0.        , 0.        , 0.58042343, 0.32700044, 0.        ,\n",
       "        0.        , 0.        , 0.58042343, 0.        , 0.        ,\n",
       "        0.        , 0.        , 0.        , 0.46828197],\n",
       "       [0.55167715, 0.        , 0.        , 0.31080528, 0.        ,\n",
       "        0.31080528, 0.        , 0.        , 0.55167715, 0.        ,\n",
       "        0.        , 0.44508965, 0.        , 0.        ],\n",
       "       [0.        , 0.        , 0.        , 0.3726424 , 0.        ,\n",
       "        0.3726424 , 0.        , 0.        , 0.        , 0.        ,\n",
       "        0.6614376 , 0.        , 0.        , 0.53364369]])"
      ]
     },
     "execution_count": 12,
     "metadata": {},
     "output_type": "execute_result"
    }
   ],
   "source": [
    "feat.toarray()"
   ]
  },
  {
   "cell_type": "code",
   "execution_count": 13,
   "metadata": {},
   "outputs": [
    {
     "data": {
      "text/plain": [
       "['bad',\n",
       " 'good',\n",
       " 'great',\n",
       " 'is',\n",
       " 'like',\n",
       " 'movie',\n",
       " 'much',\n",
       " 'one',\n",
       " 'really',\n",
       " 'so',\n",
       " 'terrible',\n",
       " 'that',\n",
       " 'the',\n",
       " 'this']"
      ]
     },
     "execution_count": 13,
     "metadata": {},
     "output_type": "execute_result"
    }
   ],
   "source": [
    "vectorizer.get_feature_names()"
   ]
  },
  {
   "cell_type": "code",
   "execution_count": null,
   "metadata": {},
   "outputs": [],
   "source": [
    "feat_array = feat.toarray()\n",
    "feat_array.shape"
   ]
  },
  {
   "cell_type": "code",
   "execution_count": null,
   "metadata": {},
   "outputs": [],
   "source": [
    "feat_array[0:2, :]"
   ]
  },
  {
   "cell_type": "code",
   "execution_count": 14,
   "metadata": {},
   "outputs": [
    {
     "name": "stderr",
     "output_type": "stream",
     "text": [
      "C:\\ProgramData\\Anaconda3\\lib\\site-packages\\sklearn\\feature_extraction\\text.py:1089: FutureWarning: Conversion of the second argument of issubdtype from `float` to `np.floating` is deprecated. In future, it will be treated as `np.float64 == np.dtype(float).type`.\n",
      "  if hasattr(X, 'dtype') and np.issubdtype(X.dtype, np.float):\n"
     ]
    },
    {
     "data": {
      "text/plain": [
       "array([[0.        , 0.67082255, 0.        , 0.37792972, 0.        ,\n",
       "        0.18896486, 0.        , 0.33541128, 0.        , 0.33541128,\n",
       "        0.        , 0.27060771, 0.        , 0.27060771]])"
      ]
     },
     "execution_count": 14,
     "metadata": {},
     "output_type": "execute_result"
    }
   ],
   "source": [
    "vectorizer.transform([new_text]).toarray()"
   ]
  },
  {
   "cell_type": "markdown",
   "metadata": {},
   "source": [
    "### 3.3 中文TF-IDF"
   ]
  },
  {
   "cell_type": "code",
   "execution_count": 16,
   "metadata": {
    "collapsed": true
   },
   "outputs": [],
   "source": [
    "import os\n",
    "import re\n",
    "import jieba.posseg as pseg\n",
    "\n",
    "ch_text1 = ' 非常失望，剧本完全敷衍了事，主线剧情没突破大家可以理解，可所有的人物都缺乏动机，正邪之间、妇联内部都没什么火花。团结-分裂-团结的三段式虽然老套但其实也可以利用积攒下来的形象魅力搞出意思，但剧本写得非常肤浅、平面。场面上调度混乱呆板，满屏的铁甲审美疲劳。只有笑点算得上差强人意。'\n",
    "ch_text2 = ' 2015年度最失望作品。以为面面俱到，实则画蛇添足；以为主题深刻，实则老调重弹；以为推陈出新，实则俗不可耐；以为场面很high，实则high劲不足。气！上一集的趣味全无，这集的笑点明显刻意到心虚。全片没有任何片段给我有紧张激动的时候，太弱了，跟奥创一样。'\n",
    "ch_text3 = ' 《铁人2》中勾引钢铁侠，《妇联1》中勾引鹰眼，《美队2》中勾引美国队长，在《妇联2》中终于……跟绿巨人表白了，黑寡妇用实际行动告诉了我们什么叫忠贞不二；而且为了治疗不孕不育连作战武器都变成了两支验孕棒(坚决相信快银没有死，后面还得回来)'\n",
    "ch_text4 = ' 虽然从头打到尾，但是真的很无聊啊。'\n",
    "ch_text5 = ' 剧情不如第一集好玩了，全靠密集笑点在提神。僧多粥少的直接后果就是每部寡姐都要换着队友谈恋爱，这特么比打斗还辛苦啊，真心求放过～～～（结尾彩蛋还以为是洛基呢，结果我呸！）'\n",
    "\n",
    "ch_texts = [ch_text1, ch_text2, ch_text3, ch_text4, ch_text5]"
   ]
  },
  {
   "cell_type": "code",
   "execution_count": 17,
   "metadata": {},
   "outputs": [],
   "source": [
    "# 加载停用词表\n",
    "stop_words_path = './stop_words/'\n",
    "\n",
    "stopwords1 = [line.rstrip() for line in open(os.path.join(stop_words_path, '中文停用词库.txt'), 'r',\n",
    "                                             encoding='utf-8')]\n",
    "stopwords2 = [line.rstrip() for line in open(os.path.join(stop_words_path, '哈工大停用词表.txt'), 'r',\n",
    "                                             encoding='utf-8')]\n",
    "stopwords3 = [line.rstrip() for line in\n",
    "              open(os.path.join(stop_words_path, '四川大学机器智能实验室停用词库.txt'), 'r', encoding='utf-8')]\n",
    "stopwords = stopwords1 + stopwords2 + stopwords3"
   ]
  },
  {
   "cell_type": "code",
   "execution_count": 18,
   "metadata": {},
   "outputs": [
    {
     "data": {
      "text/plain": [
       "2489"
      ]
     },
     "execution_count": 18,
     "metadata": {},
     "output_type": "execute_result"
    }
   ],
   "source": [
    "len(stopwords)"
   ]
  },
  {
   "cell_type": "code",
   "execution_count": 20,
   "metadata": {
    "collapsed": true
   },
   "outputs": [],
   "source": [
    "def proc_text(raw_line):\n",
    "    \"\"\"\n",
    "        处理文本数据\n",
    "        返回分词结果\n",
    "    \"\"\"\n",
    "\n",
    "    # 1. 使用正则表达式去除非中文字符\n",
    "    filter_pattern = re.compile('[^\\u4E00-\\u9FD5]+')\n",
    "    chinese_only = filter_pattern.sub('', raw_line)\n",
    "\n",
    "    # 2. 结巴分词+词性标注\n",
    "    word_list = pseg.cut(chinese_only)\n",
    "\n",
    "    # 3. 去除停用词，保留有意义的词性\n",
    "    # 动词，形容词，副词\n",
    "    used_flags = ['v', 'a', 'ad']\n",
    "    meaninful_words = []\n",
    "    for word, flag in word_list:\n",
    "        if (word not in stopwords) and (flag in used_flags):\n",
    "            meaninful_words.append(word)\n",
    "    return ' '.join(meaninful_words)"
   ]
  },
  {
   "cell_type": "code",
   "execution_count": 21,
   "metadata": {},
   "outputs": [
    {
     "name": "stderr",
     "output_type": "stream",
     "text": [
      "Building prefix dict from the default dictionary ...\n",
      "Loading model from cache C:\\Users\\Robin\\AppData\\Local\\Temp\\jieba.cache\n",
      "Loading model cost 0.943 seconds.\n",
      "Prefix dict has been built succesfully.\n"
     ]
    }
   ],
   "source": [
    "corpus = [proc_text(ch_text) for ch_text in ch_texts]"
   ]
  },
  {
   "cell_type": "code",
   "execution_count": 22,
   "metadata": {},
   "outputs": [
    {
     "data": {
      "text/plain": [
       "['失望 完全 没 理解 缺乏 正邪 团结 分裂 团结 积攒 搞 出 写 肤浅 混乱 笑 点算',\n",
       " '失望 不足 全 明显 刻意 紧张 激动 太弱',\n",
       " '勾引 勾引 勾引 表白 告诉 治疗 不孕 不育 作战 变成 验孕 棒 坚决 相信 快 死 回来',\n",
       " '打到 无聊',\n",
       " '好玩 全 提神 直接 换 谈恋爱 打斗 辛苦 求 放过']"
      ]
     },
     "execution_count": 22,
     "metadata": {},
     "output_type": "execute_result"
    }
   ],
   "source": [
    "corpus"
   ]
  },
  {
   "cell_type": "code",
   "execution_count": 23,
   "metadata": {},
   "outputs": [
    {
     "name": "stderr",
     "output_type": "stream",
     "text": [
      "C:\\ProgramData\\Anaconda3\\lib\\site-packages\\sklearn\\feature_extraction\\text.py:1089: FutureWarning: Conversion of the second argument of issubdtype from `float` to `np.floating` is deprecated. In future, it will be treated as `np.float64 == np.dtype(float).type`.\n",
      "  if hasattr(X, 'dtype') and np.issubdtype(X.dtype, np.float):\n"
     ]
    }
   ],
   "source": [
    "ch_vectorizer = TfidfVectorizer()\n",
    "ch_feats = ch_vectorizer.fit_transform(corpus)"
   ]
  },
  {
   "cell_type": "code",
   "execution_count": 25,
   "metadata": {},
   "outputs": [
    {
     "data": {
      "text/plain": [
       "['不孕',\n",
       " '不育',\n",
       " '不足',\n",
       " '作战',\n",
       " '分裂',\n",
       " '刻意',\n",
       " '勾引',\n",
       " '变成',\n",
       " '告诉',\n",
       " '回来',\n",
       " '团结',\n",
       " '坚决',\n",
       " '太弱',\n",
       " '失望',\n",
       " '好玩',\n",
       " '完全',\n",
       " '打到',\n",
       " '打斗',\n",
       " '提神',\n",
       " '放过',\n",
       " '无聊',\n",
       " '明显',\n",
       " '正邪',\n",
       " '治疗',\n",
       " '混乱',\n",
       " '激动',\n",
       " '点算',\n",
       " '理解',\n",
       " '直接',\n",
       " '相信',\n",
       " '积攒',\n",
       " '紧张',\n",
       " '缺乏',\n",
       " '肤浅',\n",
       " '表白',\n",
       " '谈恋爱',\n",
       " '辛苦',\n",
       " '验孕']"
      ]
     },
     "execution_count": 25,
     "metadata": {},
     "output_type": "execute_result"
    }
   ],
   "source": [
    "ch_vectorizer.get_feature_names()"
   ]
  },
  {
   "cell_type": "code",
   "execution_count": 26,
   "metadata": {},
   "outputs": [
    {
     "data": {
      "text/plain": [
       "array([0.        , 0.        , 0.        , 0.        , 0.2706569 ,\n",
       "       0.        , 0.        , 0.        , 0.        , 0.        ,\n",
       "       0.5413138 , 0.        , 0.        , 0.21836428, 0.        ,\n",
       "       0.2706569 , 0.        , 0.        , 0.        , 0.        ,\n",
       "       0.        , 0.        , 0.2706569 , 0.        , 0.2706569 ,\n",
       "       0.        , 0.2706569 , 0.2706569 , 0.        , 0.        ,\n",
       "       0.2706569 , 0.        , 0.2706569 , 0.2706569 , 0.        ,\n",
       "       0.        , 0.        , 0.        ])"
      ]
     },
     "execution_count": 26,
     "metadata": {},
     "output_type": "execute_result"
    }
   ],
   "source": [
    "ch_feats.toarray()[0, :]"
   ]
  },
  {
   "cell_type": "code",
   "execution_count": null,
   "metadata": {
    "collapsed": true
   },
   "outputs": [],
   "source": []
  }
 ],
 "metadata": {
  "kernelspec": {
   "display_name": "Python 3",
   "language": "python",
   "name": "python3"
  },
  "language_info": {
   "codemirror_mode": {
    "name": "ipython",
    "version": 3
   },
   "file_extension": ".py",
   "mimetype": "text/x-python",
   "name": "python",
   "nbconvert_exporter": "python",
   "pygments_lexer": "ipython3",
   "version": "3.6.1"
  }
 },
 "nbformat": 4,
 "nbformat_minor": 2
}
